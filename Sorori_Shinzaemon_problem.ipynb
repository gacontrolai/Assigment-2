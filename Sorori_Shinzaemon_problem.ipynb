{
 "cells": [
  {
   "cell_type": "code",
   "execution_count": 111,
   "metadata": {},
   "outputs": [],
   "source": [
    "import matplotlib.pyplot as plt"
   ]
  },
  {
   "cell_type": "code",
   "execution_count": 112,
   "metadata": {},
   "outputs": [],
   "source": [
    "INTIAL_RICE = 1\n",
    "AFTER_DAYS = 100"
   ]
  },
  {
   "cell_type": "code",
   "execution_count": 113,
   "metadata": {},
   "outputs": [
    {
     "name": "stdout",
     "output_type": "stream",
     "text": [
      "Total grain gained in 100 is: 1267650600228229401496703205375\n"
     ]
    }
   ],
   "source": [
    "n_gain = INTIAL_RICE\n",
    "list_of_rice_after_each_days_1 = []\n",
    "total_rice = 0\n",
    "for i in range(AFTER_DAYS):\n",
    "    n_gain =  2**(i)*INTIAL_RICE \n",
    "    total_rice = total_rice + n_gain  \n",
    "    list_of_rice_after_each_days_1.append(total_rice)\n",
    "print(f\"Total grain gained in {AFTER_DAYS} is: {list_of_rice_after_each_days_1[-1]}\")"
   ]
  },
  {
   "cell_type": "code",
   "execution_count": 114,
   "metadata": {},
   "outputs": [
    {
     "data": {
      "image/png": "[encoded data removed]",
      "text/plain": [
       "<Figure size 432x288 with 1 Axes>"
      ]
     },
     "metadata": {
      "needs_background": "light"
     },
     "output_type": "display_data"
    }
   ],
   "source": [
    "\"\"\"\n",
    "Plot diagram\n",
    "\"\"\"\n",
    "%matplotlib inline\n",
    "plt.title(\"Rice record\")\n",
    "plt.xlabel(\"days\")\n",
    "plt.ylabel(\"Number of rice\")\n",
    "plt.plot(list_total_grains ) # Enter the variable name of the list in \"List name\"\n",
    "plt.show()"
   ]
  },
  {
   "cell_type": "code",
   "execution_count": 115,
   "metadata": {},
   "outputs": [],
   "source": [
    "def Sorori_gain_caculation(initial_rice = 1, after_days = 100, return_list = 0):\n",
    "    \"\"\"\n",
    "    A function that verifies the anecdote of rice by Sorori Shinzaemon. Calculate the number of rice grains per day.\n",
    "    Parameteres\n",
    "    --------------\n",
    "    initial_rice: int \n",
    "        The amount of rice in the first days\n",
    "    after_days: int\n",
    "        Number of days to get rice (default : 100)\n",
    "    return_list: bool\n",
    "        Will return a list or just the amount of rice in the final day\n",
    "    Returns\n",
    "    --------------\n",
    "    list_n_grains : list\n",
    "        List of the number of rice you get one day (the length of the list is equal to day)\n",
    "    list_total_grains : list\n",
    "        List of the total number of rice you will receive by a certain day (the length of the list will be equal to day)\n",
    "    \"\"\"\n",
    "    if return_list:\n",
    "        n_gain = initial_rice\n",
    "        list_n_grains = []\n",
    "        list_of_rice_after_each_days = []\n",
    "        total_rice = initial_rice\n",
    "        for i in range(after_days):\n",
    "            n_gain =  2**(i)*initial_rice \n",
    "            total_rice = total_rice + n_gain  \n",
    "            list_n_grains.append (n_gain)\n",
    "            list_of_rice_after_each_days.append(total_rice)\n",
    "        return list_n_grains,list_of_rice_after_each_days\n",
    "    else:\n",
    "        total_rice = initial_rice* (1- 2**after_days)/ (1-2) #sum of geometric progression for checking\n",
    "        return total_rice\n"
   ]
  },
  {
   "cell_type": "code",
   "execution_count": 116,
   "metadata": {},
   "outputs": [
    {
     "name": "stdout",
     "output_type": "stream",
     "text": [
      "Sum of geometric progression result: 1.2676506002282294e+30\n",
      "The gain in the 100th day is 633825300114114700748351602688\n",
      "After 100 days the total amout of grain is 1267650600228229401496703205376\n"
     ]
    }
   ],
   "source": [
    "print(\"Sum of geometric progression result: {}\".format(Sorori_gain_caculation(return_list=0)))\n",
    "list_n_grains,list_total_grains  = Sorori_gain_caculation(initial_rice = INTIAL_RICE,after_days = AFTER_DAYS,return_list = 1)\n",
    "print (\"The gain in the {}th day is {}\".format(AFTER_DAYS,list_n_grains[-1]))\n",
    "print (\"After {} days the total amout of grain is {}\".format(AFTER_DAYS,list_total_grains[-1]))"
   ]
  },
  {
   "cell_type": "code",
   "execution_count": 117,
   "metadata": {},
   "outputs": [
    {
     "data": {
      "image/png": "[encoded data removed]",
      "text/plain": [
       "<Figure size 432x288 with 1 Axes>"
      ]
     },
     "metadata": {
      "needs_background": "light"
     },
     "output_type": "display_data"
    }
   ],
   "source": [
    "\"\"\"\n",
    "Plot diagram of total rice\n",
    "\"\"\"\n",
    "%matplotlib inline\n",
    "plt.title(\"Rice record\")\n",
    "plt.xlabel(\"days\")\n",
    "plt.ylabel(\"Number of rice\")\n",
    "plt.plot(list_total_grains ) # Enter the variable name of the list in \"List name\"\n",
    "plt.show()"
   ]
  },
  {
   "cell_type": "code",
   "execution_count": 118,
   "metadata": {},
   "outputs": [
    {
     "data": {
      "image/png": "[encoded data removed]",
      "text/plain": [
       "<Figure size 432x288 with 1 Axes>"
      ]
     },
     "metadata": {
      "needs_background": "light"
     },
     "output_type": "display_data"
    }
   ],
   "source": [
    "\"\"\"\n",
    "Plot diagram of rice in day n\n",
    "\"\"\"\n",
    "%matplotlib inline\n",
    "plt.title(\"Rice record\")\n",
    "plt.xlabel(\"days\")\n",
    "plt.ylabel(\"Grain receive\")\n",
    "plt.plot(list_n_grains ) # Enter the variable name of the list in \"List name\"\n",
    "plt.show()"
   ]
  },
  {
   "cell_type": "code",
   "execution_count": null,
   "metadata": {},
   "outputs": [],
   "source": []
  }
 ],
 "metadata": {
  "kernelspec": {
   "display_name": "Python 3",
   "language": "python",
   "name": "python3"
  },
  "language_info": {
   "codemirror_mode": {
    "name": "ipython",
    "version": 3
   },
   "file_extension": ".py",
   "mimetype": "text/x-python",
   "name": "python",
   "nbconvert_exporter": "python",
   "pygments_lexer": "ipython3",
   "version": "3.8.5"
  }
 },
 "nbformat": 4,
 "nbformat_minor": 4
}
