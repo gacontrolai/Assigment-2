{
 "cells": [
  {
   "cell_type": "code",
   "execution_count": 21,
   "metadata": {},
   "outputs": [],
   "source": [
    "import matplotlib.pyplot as plt\n",
    "import math\n",
    "import numpy as np"
   ]
  },
  {
   "cell_type": "code",
   "execution_count": 16,
   "metadata": {},
   "outputs": [],
   "source": [
    "def time_to_fill (V_of_small_object, V_of_big_object, time_to_replication ):\n",
    "    \"\"\"\n",
    "    A function to calculate time for the small object to fill inside the bigger object\n",
    "    --------------\n",
    "    V_of_small_object: int \n",
    "        Volume of small object\n",
    "    V_of_big_object: int\n",
    "        Volume of small object\n",
    "    time_to_replication: double\n",
    "        Time it took to double it self in minute\n",
    "    Returns\n",
    "    --------------\n",
    "    total_time : double\n",
    "        Time in minute for small object to fill the bigger one\n",
    "    \"\"\"\n",
    "    num_of_replicate = math.ceil(math.log(V_of_big_object,2)  - math.log(V_of_small_object,2) ) # Since number of replicate must be a integer therefore we have to ceil the result\n",
    "    volume = V_of_small_object\n",
    "    volume_list =[V_of_small_object]\n",
    "    for i in range(num_of_replicate):\n",
    "            volume = volume*2\n",
    "            volume_list.append(volume)\n",
    "    total_time = num_of_replicate * time_to_replication\n",
    "    return total_time, volume_list"
   ]
  },
  {
   "cell_type": "code",
   "execution_count": 36,
   "metadata": {},
   "outputs": [
    {
     "name": "stdout",
     "output_type": "stream",
     "text": [
      "540\n",
      "108.0\n"
     ]
    },
    {
     "data": {
      "image/png": "[encoded data removed]",
      "text/plain": [
       "<Figure size 432x288 with 1 Axes>"
      ]
     },
     "metadata": {
      "needs_background": "light"
     },
     "output_type": "display_data"
    }
   ],
   "source": [
    "V_solor_sys = 1.409 * 10**27 #m^3\n",
    "V_japanes_donut = 5* 10**(-6) #m^3\n",
    "TIME_TO_REPLICATE = 5 #min\n",
    "total_time, volum_list = time_to_fill(V_of_small_object = V_japanes_donut, V_of_big_object = V_solor_sys, time_to_replication = TIME_TO_REPLICATE )\n",
    "print( total_time)\n",
    "plt.xlabel(\"Day\")\n",
    "plt.ylabel(\"Volume\")\n",
    "plt.plot(np.linspace(start= 0, stop =total_time,num= (int)(total_time/TIME_TO_REPLICATE+1)  ),volum_list)\n",
    "plt.axhline(y=V_solor_sys)\n",
    "print(total_time/TIME_TO_REPLICATE)"
   ]
  },
  {
   "cell_type": "code",
   "execution_count": 30,
   "metadata": {},
   "outputs": [
    {
     "name": "stdout",
     "output_type": "stream",
     "text": [
      "[  0.   5.  10.  15.  20.  25.  30.  35.  40.  45.  50.  55.  60.  65.\n",
      "  70.  75.  80.  85.  90.  95. 100. 105. 110. 115. 120. 125. 130. 135.\n",
      " 140. 145. 150. 155. 160. 165. 170. 175. 180. 185. 190. 195. 200. 205.\n",
      " 210. 215. 220. 225. 230. 235. 240. 245. 250. 255. 260. 265. 270. 275.\n",
      " 280. 285. 290. 295. 300. 305. 310. 315. 320. 325. 330. 335. 340. 345.\n",
      " 350. 355. 360. 365. 370. 375. 380. 385. 390. 395. 400. 405. 410. 415.\n",
      " 420. 425. 430. 435. 440. 445. 450. 455. 460. 465. 470. 475. 480. 485.\n",
      " 490. 495. 500. 505. 510. 515. 520. 525. 530. 535. 540.]\n"
     ]
    }
   ],
   "source": [
    "print(np.linspace(start= 0, stop =total_time,num= (int)(total_time/TIME_TO_REPLICATE+1)  ))\n"
   ]
  },
  {
   "cell_type": "code",
   "execution_count": null,
   "metadata": {},
   "outputs": [],
   "source": []
  }
 ],
 "metadata": {
  "kernelspec": {
   "display_name": "Python 3",
   "language": "python",
   "name": "python3"
  },
  "language_info": {
   "codemirror_mode": {
    "name": "ipython",
    "version": 3
   },
   "file_extension": ".py",
   "mimetype": "text/x-python",
   "name": "python",
   "nbconvert_exporter": "python",
   "pygments_lexer": "ipython3",
   "version": "3.8.5"
  }
 },
 "nbformat": 4,
 "nbformat_minor": 4
}
