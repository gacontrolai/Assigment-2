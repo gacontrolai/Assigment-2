{
 "cells": [
  {
   "cell_type": "code",
   "execution_count": 1,
   "metadata": {},
   "outputs": [],
   "source": [
    "import math"
   ]
  },
  {
   "cell_type": "markdown",
   "metadata": {},
   "source": [
    "# [Problem 1] Minimum number of folds over Mt. Fuji\n",
    "Since height of the papper is calculated as:\n",
    "\n",
    "$ PAPPER\\_THICKNESS\\cdot2^{x} $( x is number of fold).\n",
    "\n",
    "Therefore we need to find $x$ so that:\n",
    "\n",
    "\n",
    "$PAPPER\\_THICKNESS\\cdot2^x > MOUNT\\_FUJI\\_HEIGHT$\n",
    "\n",
    "\n",
    "We can take the logarithm of base 2 both side and we will be able to find the X\n",
    "\n",
    "\n",
    "$x = \\log_2 (MOUNT\\_FUJI\\_HEIGHT) - \\log_2 (PAPPER\\_THICKNESS)$\n",
    "\n",
    "\n",
    "The program below will use the formula as described."
   ]
  },
  {
   "cell_type": "code",
   "execution_count": 2,
   "metadata": {},
   "outputs": [
    {
     "name": "stdout",
     "output_type": "stream",
     "text": [
      "Foldes needed for the paper to be higher than the height of Mt.Fuji :26\n",
      "Height of Mt.Fuji: 3776m\n",
      "Height of the papper after 26 foldes: 5368.70912m\n"
     ]
    }
   ],
   "source": [
    "PAPPER_THICKNESS = 0.00008\n",
    "MOUNT_FUJI_HEIGHT = 3776\n",
    "amount_of_fold_needed = math.ceil(math.log(MOUNT_FUJI_HEIGHT,2) - math.log(PAPPER_THICKNESS,2)) # log(number,base)\n",
    "papper_post_fold = PAPPER_THICKNESS*2**amount_of_fold_needed\n",
    "print (\"Foldes needed for the paper to be higher than the height of Mt.Fuji :{}\".format(amount_of_fold_needed))\n",
    "print (\"Height of Mt.Fuji: {}m\\nHeight of the papper after {} foldes: {}m\".format(MOUNT_FUJI_HEIGHT,amount_of_fold_needed,papper_post_fold))"
   ]
  },
  {
   "cell_type": "markdown",
   "metadata": {},
   "source": [
    "# [Problem 2] Creating a function corresponding to an arbitrary thickness"
   ]
  },
  {
   "cell_type": "code",
   "execution_count": 3,
   "metadata": {},
   "outputs": [],
   "source": [
    "def foldes_to_the_star( distance, papper_thickness = 0.00008  ):\n",
    "    \"\"\"\n",
    "    A function to find the length of the papper that we could fold\n",
    "    --------------\n",
    "    distance: int \n",
    "        distance to the object\n",
    "    thickness: int\n",
    "        thickness of the papper (default = 0.00008)\n",
    "    Returns\n",
    "    --------------\n",
    "    amount_of_fold_needed : int\n",
    "        the fold need to reach the distance\n",
    "    \"\"\"\n",
    "    amount_of_fold_needed = math.ceil(math.log(distance,2) - math.log(papper_thickness,2)) # Using the fomula in problem 1. Number of fold also must be a integer\n",
    "    return amount_of_fold_needed"
   ]
  },
  {
   "cell_type": "code",
   "execution_count": 4,
   "metadata": {},
   "outputs": [
    {
     "name": "stdout",
     "output_type": "stream",
     "text": [
      "Foldes need to reach alpha centauri: 69\n"
     ]
    }
   ],
   "source": [
    "alpha_centauri_distance = 4.131*10**16 # meter\n",
    "PAPPER_THICKNESS = 0.00008 # meter\n",
    "print(\"Foldes need to reach alpha centauri: {}\".format(foldes_to_the_star(distance =alpha_centauri_distance )))"
   ]
  },
  {
   "cell_type": "markdown",
   "metadata": {},
   "source": [
    "# [Problem 3] Required paper length"
   ]
  },
  {
   "cell_type": "code",
   "execution_count": 5,
   "metadata": {},
   "outputs": [],
   "source": [
    "def finding_length_of_papper (distance, thickness = 0.00008):\n",
    "    \"\"\"\n",
    "    A function to find the length of the papper that we could fold\n",
    "    --------------\n",
    "    distance: int \n",
    "        distance to the object\n",
    "    thickness: int\n",
    "        thickness of the papper (default = 0.00008)\n",
    "    Returns\n",
    "    --------------\n",
    "    leng : double\n",
    "        the length of the papper\n",
    "    \"\"\"\n",
    "    num_fold = foldes_to_the_star (distance= distance,papper_thickness=thickness) # reuse previous function to find number of fold we need\n",
    "    leng = math.pi * thickness/6 * (2**num_fold + 4 )*(2**num_fold -1)\n",
    "    return leng"
   ]
  },
  {
   "cell_type": "code",
   "execution_count": 6,
   "metadata": {},
   "outputs": [
    {
     "name": "stdout",
     "output_type": "stream",
     "text": [
      "Length to needed to fold the papper to Mt.Fuji: 188646348.48724017 km\n",
      "Length to needed to fold the papper to alpha centauri: 1.4595803601100347e+34 km\n"
     ]
    }
   ],
   "source": [
    "leng_fuji = finding_length_of_papper(distance= MOUNT_FUJI_HEIGHT,thickness= PAPPER_THICKNESS  )\n",
    "leng_star = finding_length_of_papper(distance= alpha_centauri_distance,thickness= PAPPER_THICKNESS  )\n",
    "print(\"Length to needed to fold the papper to Mt.Fuji: {} km\\nLength to needed to fold the papper to alpha centauri: {} km\".format(leng_fuji/1000,leng_star/1000))"
   ]
  },
  {
   "cell_type": "code",
   "execution_count": null,
   "metadata": {},
   "outputs": [],
   "source": []
  }
 ],
 "metadata": {
  "kernelspec": {
   "display_name": "Python 3",
   "language": "python",
   "name": "python3"
  },
  "language_info": {
   "codemirror_mode": {
    "name": "ipython",
    "version": 3
   },
   "file_extension": ".py",
   "mimetype": "text/x-python",
   "name": "python",
   "nbconvert_exporter": "python",
   "pygments_lexer": "ipython3",
   "version": "3.8.5"
  }
 },
 "nbformat": 4,
 "nbformat_minor": 4
}
